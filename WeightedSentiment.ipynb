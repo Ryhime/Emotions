{
 "cells": [
  {
   "cell_type": "code",
   "execution_count": 1,
   "metadata": {},
   "outputs": [],
   "source": [
    "train = open(\"train.txt\").readlines()\n",
    "test = open(\"test.txt\").readlines()"
   ]
  },
  {
   "cell_type": "code",
   "execution_count": 2,
   "metadata": {},
   "outputs": [],
   "source": [
    "import numpy as np\n",
    "train = np.array(list(map(lambda x: x.rstrip('\\n'),train)))\n",
    "test = np.array(list(map(lambda x: x.rstrip('\\n'),test)))"
   ]
  },
  {
   "cell_type": "code",
   "execution_count": 3,
   "metadata": {},
   "outputs": [
    {
     "data": {
      "text/plain": [
       "array(['sadness', 'sadness', 'sadness', ..., 'joy', 'joy', 'fear'],\n",
       "      dtype='<U8')"
      ]
     },
     "execution_count": 3,
     "metadata": {},
     "output_type": "execute_result"
    }
   ],
   "source": [
    "xTrain = np.array(list(map(lambda x: x.split(';')[0], train)))\n",
    "yTrain = np.array(list(map(lambda x: x.split(';')[1], train)))\n",
    "\n",
    "xTest = np.array(list(map(lambda x: x.split(';')[0], test)))\n",
    "yTest = np.array(list(map(lambda x: x.split(';')[1], test)))\n",
    "yTest"
   ]
  },
  {
   "cell_type": "code",
   "execution_count": 4,
   "metadata": {},
   "outputs": [],
   "source": [
    "labelToNumber = {\n",
    "    'anger':0,\n",
    "    'fear':1,\n",
    "    'sadness':2,\n",
    "    'joy':3,\n",
    "    'love':4,\n",
    "    'surprise':5\n",
    "}\n",
    "yTrainNumber = np.array(list(map(lambda x: labelToNumber[x],yTrain)))\n",
    "yTestNumber = np.array(list(map(lambda x: labelToNumber[x],yTest)))"
   ]
  },
  {
   "cell_type": "code",
   "execution_count": 5,
   "metadata": {},
   "outputs": [],
   "source": [
    "# Word2Vec\n",
    "import gensim.downloader as api\n",
    "wv = api.load('glove-twitter-200')"
   ]
  },
  {
   "cell_type": "code",
   "execution_count": 6,
   "metadata": {},
   "outputs": [
    {
     "name": "stderr",
     "output_type": "stream",
     "text": [
      "C:\\Users\\ryguy\\AppData\\Local\\Temp\\ipykernel_2668\\992712142.py:1: VisibleDeprecationWarning: Creating an ndarray from ragged nested sequences (which is a list-or-tuple of lists-or-tuples-or ndarrays with different lengths or shapes) is deprecated. If you meant to do this, you must specify 'dtype=object' when creating the ndarray.\n",
      "  xTrainSplit = np.array(list(map(lambda x: x.split(' '),xTrain)))\n",
      "C:\\Users\\ryguy\\AppData\\Local\\Temp\\ipykernel_2668\\992712142.py:2: VisibleDeprecationWarning: Creating an ndarray from ragged nested sequences (which is a list-or-tuple of lists-or-tuples-or ndarrays with different lengths or shapes) is deprecated. If you meant to do this, you must specify 'dtype=object' when creating the ndarray.\n",
      "  xTestSplit = np.array(list(map(lambda x: x.split(' '),xTest)))\n"
     ]
    },
    {
     "data": {
      "text/plain": [
       "['i', 'didnt', 'feel', 'humiliated']"
      ]
     },
     "execution_count": 6,
     "metadata": {},
     "output_type": "execute_result"
    }
   ],
   "source": [
    "xTrainSplit = np.array(list(map(lambda x: x.split(' '),xTrain)))\n",
    "xTestSplit = np.array(list(map(lambda x: x.split(' '),xTest)))\n",
    "xTrainSplit[0]"
   ]
  },
  {
   "cell_type": "code",
   "execution_count": 7,
   "metadata": {},
   "outputs": [
    {
     "name": "stderr",
     "output_type": "stream",
     "text": [
      "C:\\Users\\ryguy\\AppData\\Local\\Temp\\ipykernel_2668\\1895475127.py:9: VisibleDeprecationWarning: Creating an ndarray from ragged nested sequences (which is a list-or-tuple of lists-or-tuples-or ndarrays with different lengths or shapes) is deprecated. If you meant to do this, you must specify 'dtype=object' when creating the ndarray.\n",
      "  embeddXTrain = np.array(list(map(lambda x: embeddSentence(x),xTrainSplit)))\n",
      "C:\\Users\\ryguy\\AppData\\Local\\Temp\\ipykernel_2668\\1895475127.py:10: VisibleDeprecationWarning: Creating an ndarray from ragged nested sequences (which is a list-or-tuple of lists-or-tuples-or ndarrays with different lengths or shapes) is deprecated. If you meant to do this, you must specify 'dtype=object' when creating the ndarray.\n",
      "  embeddXTest = np.array(list(map(lambda x: embeddSentence(x),xTestSplit)))\n"
     ]
    }
   ],
   "source": [
    "# Embedd\n",
    "def embeddWord(word):\n",
    "    if (word in wv):\n",
    "        return wv[word][0:200]\n",
    "    else:\n",
    "        return [0]*200\n",
    "def embeddSentence(sentence):\n",
    "    return np.array(list(map(lambda x: embeddWord(x),sentence)))\n",
    "embeddXTrain = np.array(list(map(lambda x: embeddSentence(x),xTrainSplit)))\n",
    "embeddXTest = np.array(list(map(lambda x: embeddSentence(x),xTestSplit)))"
   ]
  },
  {
   "cell_type": "code",
   "execution_count": 8,
   "metadata": {},
   "outputs": [],
   "source": [
    "size = 100\n",
    "def pad(arr):\n",
    "    if (len(arr)>size): return arr[0:size]\n",
    "    elif len(arr)<size: return np.append(arr, np.array((size-len(arr))*[[0]*200]),axis=0)\n",
    "    return arr"
   ]
  },
  {
   "cell_type": "code",
   "execution_count": 9,
   "metadata": {},
   "outputs": [],
   "source": [
    "xTrainPad = np.array(list(map(lambda x: pad(x),embeddXTrain)))\n",
    "xTestPad = np.array(list(map(lambda x: pad(x),embeddXTest)))"
   ]
  },
  {
   "cell_type": "code",
   "execution_count": 11,
   "metadata": {},
   "outputs": [
    {
     "data": {
      "text/plain": [
       "(16000, 100, 200)"
      ]
     },
     "execution_count": 11,
     "metadata": {},
     "output_type": "execute_result"
    }
   ],
   "source": [
    "xTrainPad.shape"
   ]
  },
  {
   "cell_type": "code",
   "execution_count": 13,
   "metadata": {},
   "outputs": [],
   "source": [
    "from keras.layers import Layer\n",
    "import keras.backend as K\n",
    "# https://www.kaggle.com/code/haithemhermessi/attention-mechanism-keras-as-simple-as-possible\n",
    "class attention(Layer):\n",
    "    def __init__(self,**kwargs):\n",
    "        super(attention,self).__init__(**kwargs)\n",
    "        \n",
    "        \n",
    "    def build(self,input_shape):\n",
    "        self.w=self.add_weight(name=\"att_weight\",shape=(input_shape[-1],1),initializer=\"normal\")\n",
    "        self.b=self.add_weight(name=\"att_bias\",shape=(input_shape[1],1),initializer=\"zeros\")\n",
    "        super(attention,self).build(input_shape)\n",
    "         \n",
    "    def call(self,x):\n",
    "        et=K.squeeze(K.tanh(K.dot(x,self.w)+self.b), axis=-1)\n",
    "        at=K.softmax(et)\n",
    "        at=K.expand_dims(at,axis=-1)\n",
    "        output=x*at\n",
    "        return K.sum(output,axis=1)\n",
    "    \n",
    "    def compute_output_shape(self,input_shape):\n",
    "        return (input_shape[0],input_shape[-1])\n",
    "    \"The get_config() method collects the input shape and other information about the model.\"\"\"\n",
    "    def get_config(self):\n",
    "        return super(attention,self).get_config() "
   ]
  },
  {
   "cell_type": "code",
   "execution_count": 15,
   "metadata": {},
   "outputs": [],
   "source": [
    "import tensorflow as tf\n",
    "from tensorflow.keras import layers\n",
    "model = tf.keras.Sequential()\n",
    "model.add(tf.keras.Input(shape=(100,200),dtype=tf.float32))\n",
    "\n",
    "model.add(layers.Bidirectional(layers.LSTM(128,return_sequences=True)))\n",
    "model.add(layers.Conv1D(64,3))\n",
    "model.add(layers.MaxPooling1D())\n",
    "\n",
    "model.add(layers.Bidirectional(layers.LSTM(128, return_sequences=True)))\n",
    "model.add(attention())\n",
    "\n",
    "model.add(layers.Dense(256))\n",
    "model.add(layers.Dense(6,activation=\"softmax\"))\n",
    "model.compile(optimizer='adam',loss='sparse_categorical_crossentropy',metrics=['accuracy'])"
   ]
  },
  {
   "cell_type": "code",
   "execution_count": 17,
   "metadata": {},
   "outputs": [],
   "source": [
    "# Try weighting the word embeddings that relate to sentiment analysis\n",
    "weightedWords = open('SentimentWords','r').readlines()\n",
    "weightedWords = np.array(list(map(lambda x: x.rstrip('\\n'),weightedWords)))"
   ]
  },
  {
   "cell_type": "code",
   "execution_count": 18,
   "metadata": {},
   "outputs": [
    {
     "data": {
      "text/plain": [
       "0.1009290389061537"
      ]
     },
     "execution_count": 18,
     "metadata": {},
     "output_type": "execute_result"
    }
   ],
   "source": [
    "count = 0\n",
    "total = 0\n",
    "for i in range(len(xTrainSplit)):\n",
    "    for k in range(len(xTrainSplit[i])):\n",
    "        total+=1\n",
    "        if (xTrainSplit[i][k] in weightedWords):\n",
    "            count+=1\n",
    "            xTrainPad[i][k]*=2\n",
    "count/total"
   ]
  },
  {
   "cell_type": "code",
   "execution_count": 19,
   "metadata": {},
   "outputs": [
    {
     "data": {
      "text/plain": [
       "0.10055340920956458"
      ]
     },
     "execution_count": 19,
     "metadata": {},
     "output_type": "execute_result"
    }
   ],
   "source": [
    "count = 0\n",
    "total = 0\n",
    "for i in range(len(xTestSplit)):\n",
    "    for k in range(len(xTestSplit[i])):\n",
    "        total+=1\n",
    "        if (xTestSplit[i][k] in weightedWords):\n",
    "            count+=1\n",
    "            xTestPad[i][k]*=2\n",
    "count/total"
   ]
  },
  {
   "cell_type": "code",
   "execution_count": 20,
   "metadata": {},
   "outputs": [],
   "source": [
    "model.fit(np.array(list(xTrainPad)),np.array(list(yTrainNumber)),\n",
    "          validation_data=(np.array(list(xTestPad)),np.array(list(yTestNumber))),epochs=10)"
   ]
  }
 ],
 "metadata": {
  "kernelspec": {
   "display_name": "Python 3",
   "language": "python",
   "name": "python3"
  },
  "language_info": {
   "codemirror_mode": {
    "name": "ipython",
    "version": 3
   },
   "file_extension": ".py",
   "mimetype": "text/x-python",
   "name": "python",
   "nbconvert_exporter": "python",
   "pygments_lexer": "ipython3",
   "version": "3.10.10"
  },
  "orig_nbformat": 4
 },
 "nbformat": 4,
 "nbformat_minor": 2
}
